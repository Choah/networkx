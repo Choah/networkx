{
 "cells": [
  {
   "cell_type": "markdown",
   "id": "36b46e90",
   "metadata": {},
   "source": [
    "## Tutorial\n",
    "\n",
    "This guide can help you start working with NetworkX.\n",
    "\n",
    "### Creating a graph\n",
    "\n",
    "Create an empty graph with no nodes and no edges."
   ]
  },
  {
   "cell_type": "code",
   "execution_count": 1,
   "id": "1d75972f",
   "metadata": {
    "execution": {
     "iopub.execute_input": "2022-05-12T04:43:47.566778Z",
     "iopub.status.busy": "2022-05-12T04:43:47.566277Z",
     "iopub.status.idle": "2022-05-12T04:43:47.628643Z",
     "shell.execute_reply": "2022-05-12T04:43:47.628036Z"
    }
   },
   "outputs": [],
   "source": [
    "import networkx as nx\n",
    "G = nx.Graph()"
   ]
  },
  {
   "cell_type": "markdown",
   "id": "dcf9f955",
   "metadata": {},
   "source": [
    "By definition, a `Graph` is a collection of nodes (vertices) along with\n",
    "identified pairs of nodes (called edges, links, etc).  In NetworkX, nodes can\n",
    "be any [hashable](https://docs.python.org/3/glossary.html#term-hashable) object e.g., a text string, an image, an XML object,\n",
    "another Graph, a customized node object, etc.\n",
    "\n",
    "# Nodes\n",
    "\n",
    "The graph `G` can be grown in several ways.  NetworkX includes many\n",
    "graph generator functions and\n",
    "facilities to read and write graphs in many formats.\n",
    "To get started though we’ll look at simple manipulations.  You can add one node\n",
    "at a time,"
   ]
  },
  {
   "cell_type": "code",
   "execution_count": 2,
   "id": "ffa19931",
   "metadata": {
    "execution": {
     "iopub.execute_input": "2022-05-12T04:43:47.631977Z",
     "iopub.status.busy": "2022-05-12T04:43:47.631740Z",
     "iopub.status.idle": "2022-05-12T04:43:47.634745Z",
     "shell.execute_reply": "2022-05-12T04:43:47.634168Z"
    }
   },
   "outputs": [],
   "source": [
    "G.add_node(1)"
   ]
  },
  {
   "cell_type": "markdown",
   "id": "004141cf",
   "metadata": {},
   "source": [
    "or add nodes from any [iterable](https://docs.python.org/3/glossary.html#term-iterable) container, such as a list"
   ]
  },
  {
   "cell_type": "code",
   "execution_count": 3,
   "id": "5dbc26ff",
   "metadata": {
    "execution": {
     "iopub.execute_input": "2022-05-12T04:43:47.637618Z",
     "iopub.status.busy": "2022-05-12T04:43:47.637308Z",
     "iopub.status.idle": "2022-05-12T04:43:47.640115Z",
     "shell.execute_reply": "2022-05-12T04:43:47.639602Z"
    }
   },
   "outputs": [],
   "source": [
    "G.add_nodes_from([2, 3])"
   ]
  },
  {
   "cell_type": "markdown",
   "id": "e84b57c4",
   "metadata": {},
   "source": [
    "You can also add nodes along with node\n",
    "attributes if your container yields 2-tuples of the form\n",
    "`(node, node_attribute_dict)`:\n",
    "\n",
    "```\n",
    ">>> G.add_nodes_from([\n",
    "...     (4, {\"color\": \"red\"}),\n",
    "...     (5, {\"color\": \"green\"}),\n",
    "... ])\n",
    "```\n",
    "\n",
    "Node attributes are discussed further below.\n",
    "\n",
    "Nodes from one graph can be incorporated into another:"
   ]
  },
  {
   "cell_type": "code",
   "execution_count": 4,
   "id": "47992a29",
   "metadata": {
    "execution": {
     "iopub.execute_input": "2022-05-12T04:43:47.642544Z",
     "iopub.status.busy": "2022-05-12T04:43:47.642348Z",
     "iopub.status.idle": "2022-05-12T04:43:47.647312Z",
     "shell.execute_reply": "2022-05-12T04:43:47.646820Z"
    }
   },
   "outputs": [],
   "source": [
    "H = nx.path_graph(10)\n",
    "G.add_nodes_from(H)"
   ]
  },
  {
   "cell_type": "markdown",
   "id": "bd2adf9c",
   "metadata": {},
   "source": [
    "`G` now contains the nodes of `H` as nodes of `G`.\n",
    "In contrast, you could use the graph `H` as a node in `G`."
   ]
  },
  {
   "cell_type": "code",
   "execution_count": 5,
   "id": "d6219c3f",
   "metadata": {
    "execution": {
     "iopub.execute_input": "2022-05-12T04:43:47.649762Z",
     "iopub.status.busy": "2022-05-12T04:43:47.649572Z",
     "iopub.status.idle": "2022-05-12T04:43:47.652019Z",
     "shell.execute_reply": "2022-05-12T04:43:47.651516Z"
    }
   },
   "outputs": [],
   "source": [
    "G.add_node(H)"
   ]
  },
  {
   "cell_type": "markdown",
   "id": "23a2b91c",
   "metadata": {},
   "source": [
    "The graph `G` now contains `H` as a node.  This flexibility is very powerful as\n",
    "it allows graphs of graphs, graphs of files, graphs of functions and much more.\n",
    "It is worth thinking about how to structure your application so that the nodes\n",
    "are useful entities.  Of course you can always use a unique identifier in `G`\n",
    "and have a separate dictionary keyed by identifier to the node information if\n",
    "you prefer.\n",
    "\n",
    "# Edges\n",
    "\n",
    "`G` can also be grown by adding one edge at a time,"
   ]
  },
  {
   "cell_type": "code",
   "execution_count": 6,
   "id": "2be8e30e",
   "metadata": {
    "execution": {
     "iopub.execute_input": "2022-05-12T04:43:47.654383Z",
     "iopub.status.busy": "2022-05-12T04:43:47.653961Z",
     "iopub.status.idle": "2022-05-12T04:43:47.656831Z",
     "shell.execute_reply": "2022-05-12T04:43:47.656303Z"
    }
   },
   "outputs": [],
   "source": [
    "G.add_edge(1, 2)\n",
    "e = (2, 3)\n",
    "G.add_edge(*e)  # unpack edge tuple*"
   ]
  },
  {
   "cell_type": "markdown",
   "id": "0265bd14",
   "metadata": {},
   "source": [
    "by adding a list of edges,"
   ]
  },
  {
   "cell_type": "code",
   "execution_count": 7,
   "id": "77cd875c",
   "metadata": {
    "execution": {
     "iopub.execute_input": "2022-05-12T04:43:47.659244Z",
     "iopub.status.busy": "2022-05-12T04:43:47.658831Z",
     "iopub.status.idle": "2022-05-12T04:43:47.661611Z",
     "shell.execute_reply": "2022-05-12T04:43:47.661092Z"
    }
   },
   "outputs": [],
   "source": [
    "G.add_edges_from([(1, 2), (1, 3)])"
   ]
  },
  {
   "cell_type": "markdown",
   "id": "ec3168eb",
   "metadata": {},
   "source": [
    "or by adding any ebunch of edges.  An *ebunch* is any iterable\n",
    "container of edge-tuples.  An edge-tuple can be a 2-tuple of nodes or a 3-tuple\n",
    "with 2 nodes followed by an edge attribute dictionary, e.g.,\n",
    "`(2, 3, {'weight': 3.1415})`.  Edge attributes are discussed further\n",
    "below."
   ]
  },
  {
   "cell_type": "code",
   "execution_count": 8,
   "id": "23e8b472",
   "metadata": {
    "execution": {
     "iopub.execute_input": "2022-05-12T04:43:47.663899Z",
     "iopub.status.busy": "2022-05-12T04:43:47.663492Z",
     "iopub.status.idle": "2022-05-12T04:43:47.666141Z",
     "shell.execute_reply": "2022-05-12T04:43:47.665638Z"
    }
   },
   "outputs": [],
   "source": [
    "G.add_edges_from(H.edges)"
   ]
  },
  {
   "cell_type": "markdown",
   "id": "621a6912",
   "metadata": {},
   "source": [
    "There are no complaints when adding existing nodes or edges. For example,\n",
    "after removing all nodes and edges,"
   ]
  },
  {
   "cell_type": "code",
   "execution_count": 9,
   "id": "5d66d20b",
   "metadata": {
    "execution": {
     "iopub.execute_input": "2022-05-12T04:43:47.668408Z",
     "iopub.status.busy": "2022-05-12T04:43:47.667985Z",
     "iopub.status.idle": "2022-05-12T04:43:47.670514Z",
     "shell.execute_reply": "2022-05-12T04:43:47.670019Z"
    }
   },
   "outputs": [],
   "source": [
    "G.clear()"
   ]
  },
  {
   "cell_type": "markdown",
   "id": "de851abd",
   "metadata": {},
   "source": [
    "we add new nodes/edges and NetworkX quietly ignores any that are\n",
    "already present."
   ]
  },
  {
   "cell_type": "code",
   "execution_count": 10,
   "id": "82767fd2",
   "metadata": {
    "execution": {
     "iopub.execute_input": "2022-05-12T04:43:47.672978Z",
     "iopub.status.busy": "2022-05-12T04:43:47.672523Z",
     "iopub.status.idle": "2022-05-12T04:43:47.675920Z",
     "shell.execute_reply": "2022-05-12T04:43:47.675414Z"
    }
   },
   "outputs": [],
   "source": [
    "G.add_edges_from([(1, 2), (1, 3)])\n",
    "G.add_node(1)\n",
    "G.add_edge(1, 2)\n",
    "G.add_node(\"spam\")        # adds node \"spam\"\n",
    "G.add_nodes_from(\"spam\")  # adds 4 nodes: 's', 'p', 'a', 'm'\n",
    "G.add_edge(3, 'm')"
   ]
  },
  {
   "cell_type": "markdown",
   "id": "1c6dc898",
   "metadata": {},
   "source": [
    "At this stage the graph `G` consists of 8 nodes and 3 edges, as can be seen by:"
   ]
  },
  {
   "cell_type": "code",
   "execution_count": 11,
   "id": "f25cf3e1",
   "metadata": {
    "execution": {
     "iopub.execute_input": "2022-05-12T04:43:47.678554Z",
     "iopub.status.busy": "2022-05-12T04:43:47.678137Z",
     "iopub.status.idle": "2022-05-12T04:43:47.730104Z",
     "shell.execute_reply": "2022-05-12T04:43:47.729670Z"
    }
   },
   "outputs": [
    {
     "data": {
      "text/plain": [
       "3"
      ]
     },
     "execution_count": 11,
     "metadata": {},
     "output_type": "execute_result"
    }
   ],
   "source": [
    "G.number_of_nodes()\n",
    "G.number_of_edges()"
   ]
  },
  {
   "cell_type": "code",
   "execution_count": 12,
   "id": "eaef31ad",
   "metadata": {
    "execution": {
     "iopub.execute_input": "2022-05-12T04:43:47.732855Z",
     "iopub.status.busy": "2022-05-12T04:43:47.732169Z",
     "iopub.status.idle": "2022-05-12T04:43:47.736866Z",
     "shell.execute_reply": "2022-05-12T04:43:47.736471Z"
    }
   },
   "outputs": [],
   "source": [
    "DG = nx.DiGraph()\n",
    "DG.add_edge(2, 1)   # adds the nodes in order 2, 1\n",
    "DG.add_edge(1, 3)\n",
    "DG.add_edge(2, 4)\n",
    "DG.add_edge(1, 2)\n",
    "assert list(DG.successors(2)) == [1, 4]\n",
    "assert list(DG.edges) == [(2, 1), (2, 4), (1, 3), (1, 2)]"
   ]
  },
  {
   "cell_type": "markdown",
   "id": "b2fbf51e",
   "metadata": {},
   "source": [
    "# Examining elements of a graph\n",
    "\n",
    "We can examine the nodes and edges. Four basic graph properties facilitate\n",
    "reporting: `G.nodes`, `G.edges`, `G.adj` and `G.degree`.  These\n",
    "are set-like views of the nodes, edges, neighbors (adjacencies), and degrees\n",
    "of nodes in a graph. They offer a continually updated read-only view into\n",
    "the graph structure. They are also dict-like in that you can look up node\n",
    "and edge data attributes via the views and iterate with data attributes\n",
    "using methods `.items()`, `.data()`.\n",
    "If you want a specific container type instead of a view, you can specify one.\n",
    "Here we use lists, though sets, dicts, tuples and other containers may be\n",
    "better in other contexts."
   ]
  },
  {
   "cell_type": "code",
   "execution_count": 13,
   "id": "28c18a88",
   "metadata": {
    "execution": {
     "iopub.execute_input": "2022-05-12T04:43:47.739176Z",
     "iopub.status.busy": "2022-05-12T04:43:47.738842Z",
     "iopub.status.idle": "2022-05-12T04:43:47.742620Z",
     "shell.execute_reply": "2022-05-12T04:43:47.742258Z"
    }
   },
   "outputs": [
    {
     "data": {
      "text/plain": [
       "2"
      ]
     },
     "execution_count": 13,
     "metadata": {},
     "output_type": "execute_result"
    }
   ],
   "source": [
    "list(G.nodes)\n",
    "list(G.edges)\n",
    "list(G.adj[1])  # or list(G.neighbors(1))\n",
    "G.degree[1]  # the number of edges incident to 1"
   ]
  },
  {
   "cell_type": "markdown",
   "id": "b1dd1d01",
   "metadata": {},
   "source": [
    "One can specify to report the edges and degree from a subset of all nodes\n",
    "using an nbunch. An *nbunch* is any of: `None` (meaning all nodes),\n",
    "a node, or an iterable container of nodes that is not itself a node in the\n",
    "graph."
   ]
  },
  {
   "cell_type": "code",
   "execution_count": 14,
   "id": "a69e88aa",
   "metadata": {
    "execution": {
     "iopub.execute_input": "2022-05-12T04:43:47.744887Z",
     "iopub.status.busy": "2022-05-12T04:43:47.744552Z",
     "iopub.status.idle": "2022-05-12T04:43:47.748000Z",
     "shell.execute_reply": "2022-05-12T04:43:47.747637Z"
    }
   },
   "outputs": [
    {
     "data": {
      "text/plain": [
       "DegreeView({2: 1, 3: 2})"
      ]
     },
     "execution_count": 14,
     "metadata": {},
     "output_type": "execute_result"
    }
   ],
   "source": [
    "G.edges([2, 'm'])\n",
    "G.degree([2, 3])"
   ]
  },
  {
   "cell_type": "markdown",
   "id": "0faa12b9",
   "metadata": {},
   "source": [
    "# Removing elements from a graph\n",
    "\n",
    "One can remove nodes and edges from the graph in a similar fashion to adding.\n",
    "Use methods\n",
    "`Graph.remove_node()`,\n",
    "`Graph.remove_nodes_from()`,\n",
    "`Graph.remove_edge()`\n",
    "and\n",
    "`Graph.remove_edges_from()`, e.g."
   ]
  },
  {
   "cell_type": "code",
   "execution_count": 15,
   "id": "3b3ac6c2",
   "metadata": {
    "execution": {
     "iopub.execute_input": "2022-05-12T04:43:47.750227Z",
     "iopub.status.busy": "2022-05-12T04:43:47.749898Z",
     "iopub.status.idle": "2022-05-12T04:43:47.752535Z",
     "shell.execute_reply": "2022-05-12T04:43:47.752153Z"
    }
   },
   "outputs": [],
   "source": [
    "G.remove_node(2)\n",
    "G.remove_nodes_from(\"spam\")\n",
    "list(G.nodes)\n",
    "G.remove_edge(1, 3)"
   ]
  },
  {
   "cell_type": "markdown",
   "id": "69a6af2c",
   "metadata": {},
   "source": [
    "# Using the graph constructors\n",
    "\n",
    "Graph objects do not have to be built up incrementally - data specifying\n",
    "graph structure can be passed directly to the constructors of the various\n",
    "graph classes.\n",
    "When creating a graph structure by instantiating one of the graph\n",
    "classes you can specify data in several formats."
   ]
  },
  {
   "cell_type": "code",
   "execution_count": 16,
   "id": "a6084be4",
   "metadata": {
    "execution": {
     "iopub.execute_input": "2022-05-12T04:43:47.754754Z",
     "iopub.status.busy": "2022-05-12T04:43:47.754426Z",
     "iopub.status.idle": "2022-05-12T04:43:47.929356Z",
     "shell.execute_reply": "2022-05-12T04:43:47.928769Z"
    }
   },
   "outputs": [
    {
     "data": {
      "text/plain": [
       "[(0, 1), (0, 2), (1, 2)]"
      ]
     },
     "execution_count": 16,
     "metadata": {},
     "output_type": "execute_result"
    }
   ],
   "source": [
    "G.add_edge(1, 2)\n",
    "H = nx.DiGraph(G)  # create a DiGraph using the connections from G\n",
    "list(H.edges())\n",
    "edgelist = [(0, 1), (1, 2), (2, 3)]\n",
    "H = nx.Graph(edgelist)  # create a graph from an edge list\n",
    "list(H.edges())\n",
    "adjacency_dict = {0: (1, 2), 1: (0, 2), 2: (0, 1)}\n",
    "H = nx.Graph(adjacency_dict)  # create a Graph dict mapping nodes to nbrs\n",
    "list(H.edges())"
   ]
  },
  {
   "cell_type": "markdown",
   "id": "2208a154",
   "metadata": {},
   "source": [
    "# What to use as nodes and edges\n",
    "\n",
    "You might notice that nodes and edges are not specified as NetworkX\n",
    "objects.  This leaves you free to use meaningful items as nodes and\n",
    "edges. The most common choices are numbers or strings, but a node can\n",
    "be any hashable object (except `None`), and an edge can be associated\n",
    "with any object `x` using `G.add_edge(n1, n2, object=x)`.\n",
    "\n",
    "As an example, `n1` and `n2` could be protein objects from the RCSB Protein\n",
    "Data Bank, and `x` could refer to an XML record of publications detailing\n",
    "experimental observations of their interaction.\n",
    "\n",
    "We have found this power quite useful, but its abuse\n",
    "can lead to surprising behavior unless one is familiar with Python.\n",
    "If in doubt, consider using `convert_node_labels_to_integers()` to obtain\n",
    "a more traditional graph with integer labels.\n",
    "\n",
    "# Accessing edges and neighbors\n",
    "\n",
    "In addition to the views `Graph.edges`, and `Graph.adj`,\n",
    "access to edges and neighbors is possible using subscript notation."
   ]
  },
  {
   "cell_type": "code",
   "execution_count": 17,
   "id": "c7c02efe",
   "metadata": {
    "execution": {
     "iopub.execute_input": "2022-05-12T04:43:47.932831Z",
     "iopub.status.busy": "2022-05-12T04:43:47.932415Z",
     "iopub.status.idle": "2022-05-12T04:43:47.938533Z",
     "shell.execute_reply": "2022-05-12T04:43:47.938101Z"
    }
   },
   "outputs": [
    {
     "data": {
      "text/plain": [
       "{'color': 'yellow'}"
      ]
     },
     "execution_count": 17,
     "metadata": {},
     "output_type": "execute_result"
    }
   ],
   "source": [
    "G = nx.Graph([(1, 2, {\"color\": \"yellow\"})])\n",
    "G[1]  # same as G.adj[1]\n",
    "G[1][2]\n",
    "G.edges[1, 2]"
   ]
  },
  {
   "cell_type": "markdown",
   "id": "2231be4f",
   "metadata": {},
   "source": [
    "You can get/set the attributes of an edge using subscript notation\n",
    "if the edge already exists."
   ]
  },
  {
   "cell_type": "code",
   "execution_count": 18,
   "id": "662150fc",
   "metadata": {
    "execution": {
     "iopub.execute_input": "2022-05-12T04:43:47.940995Z",
     "iopub.status.busy": "2022-05-12T04:43:47.940562Z",
     "iopub.status.idle": "2022-05-12T04:43:47.944869Z",
     "shell.execute_reply": "2022-05-12T04:43:47.944386Z"
    }
   },
   "outputs": [
    {
     "data": {
      "text/plain": [
       "{'color': 'red'}"
      ]
     },
     "execution_count": 18,
     "metadata": {},
     "output_type": "execute_result"
    }
   ],
   "source": [
    "G.add_edge(1, 3)\n",
    "G[1][3]['color'] = \"blue\"\n",
    "G.edges[1, 2]['color'] = \"red\"\n",
    "G.edges[1, 2]"
   ]
  },
  {
   "cell_type": "markdown",
   "id": "d07baf8d",
   "metadata": {},
   "source": [
    "Fast examination of all (node, adjacency) pairs is achieved using\n",
    "`G.adjacency()`, or `G.adj.items()`.\n",
    "Note that for undirected graphs, adjacency iteration sees each edge twice."
   ]
  },
  {
   "cell_type": "code",
   "execution_count": 19,
   "id": "702f5e51",
   "metadata": {
    "execution": {
     "iopub.execute_input": "2022-05-12T04:43:47.947837Z",
     "iopub.status.busy": "2022-05-12T04:43:47.947409Z",
     "iopub.status.idle": "2022-05-12T04:43:47.951729Z",
     "shell.execute_reply": "2022-05-12T04:43:47.951218Z"
    }
   },
   "outputs": [
    {
     "name": "stdout",
     "output_type": "stream",
     "text": [
      "(1, 2, 0.125)\n",
      "(2, 1, 0.125)\n",
      "(3, 4, 0.375)\n",
      "(4, 3, 0.375)\n"
     ]
    }
   ],
   "source": [
    "FG = nx.Graph()\n",
    "FG.add_weighted_edges_from([(1, 2, 0.125), (1, 3, 0.75), (2, 4, 1.2), (3, 4, 0.375)])\n",
    "for n, nbrs in FG.adj.items():\n",
    "   for nbr, eattr in nbrs.items():\n",
    "       wt = eattr['weight']\n",
    "       if wt < 0.5: print(f\"({n}, {nbr}, {wt:.3})\")"
   ]
  },
  {
   "cell_type": "markdown",
   "id": "f63763ce",
   "metadata": {},
   "source": [
    "Convenient access to all edges is achieved with the edges property."
   ]
  },
  {
   "cell_type": "code",
   "execution_count": 20,
   "id": "36bf5aa5",
   "metadata": {
    "execution": {
     "iopub.execute_input": "2022-05-12T04:43:47.954811Z",
     "iopub.status.busy": "2022-05-12T04:43:47.954390Z",
     "iopub.status.idle": "2022-05-12T04:43:47.958651Z",
     "shell.execute_reply": "2022-05-12T04:43:47.958062Z"
    }
   },
   "outputs": [
    {
     "name": "stdout",
     "output_type": "stream",
     "text": [
      "(1, 2, 0.125)\n",
      "(3, 4, 0.375)\n"
     ]
    }
   ],
   "source": [
    "for (u, v, wt) in FG.edges.data('weight'):\n",
    "    if wt < 0.5:\n",
    "        print(f\"({u}, {v}, {wt:.3})\")"
   ]
  },
  {
   "cell_type": "markdown",
   "id": "358d654a",
   "metadata": {},
   "source": [
    "# Adding attributes to graphs, nodes, and edges\n",
    "\n",
    "Attributes such as weights, labels, colors, or whatever Python object you like,\n",
    "can be attached to graphs, nodes, or edges.\n",
    "\n",
    "Each graph, node, and edge can hold key/value attribute pairs in an associated\n",
    "attribute dictionary (the keys must be hashable).  By default these are empty,\n",
    "but attributes can be added or changed using `add_edge`, `add_node` or direct\n",
    "manipulation of the attribute dictionaries named `G.graph`, `G.nodes`, and\n",
    "`G.edges` for a graph `G`.\n",
    "\n",
    "## Graph attributes\n",
    "\n",
    "Assign graph attributes when creating a new graph"
   ]
  },
  {
   "cell_type": "code",
   "execution_count": 21,
   "id": "dd317492",
   "metadata": {
    "execution": {
     "iopub.execute_input": "2022-05-12T04:43:47.961073Z",
     "iopub.status.busy": "2022-05-12T04:43:47.960768Z",
     "iopub.status.idle": "2022-05-12T04:43:47.966533Z",
     "shell.execute_reply": "2022-05-12T04:43:47.965502Z"
    }
   },
   "outputs": [
    {
     "data": {
      "text/plain": [
       "{'day': 'Friday'}"
      ]
     },
     "execution_count": 21,
     "metadata": {},
     "output_type": "execute_result"
    }
   ],
   "source": [
    "G = nx.Graph(day=\"Friday\")\n",
    "G.graph"
   ]
  },
  {
   "cell_type": "markdown",
   "id": "22333829",
   "metadata": {},
   "source": [
    "Or you can modify attributes later"
   ]
  },
  {
   "cell_type": "code",
   "execution_count": 22,
   "id": "3ddb76f7",
   "metadata": {
    "execution": {
     "iopub.execute_input": "2022-05-12T04:43:47.968989Z",
     "iopub.status.busy": "2022-05-12T04:43:47.968693Z",
     "iopub.status.idle": "2022-05-12T04:43:47.973524Z",
     "shell.execute_reply": "2022-05-12T04:43:47.973036Z"
    }
   },
   "outputs": [
    {
     "data": {
      "text/plain": [
       "{'day': 'Monday'}"
      ]
     },
     "execution_count": 22,
     "metadata": {},
     "output_type": "execute_result"
    }
   ],
   "source": [
    "G.graph['day'] = \"Monday\"\n",
    "G.graph"
   ]
  },
  {
   "cell_type": "markdown",
   "id": "3a235b04",
   "metadata": {},
   "source": [
    "# Node attributes\n",
    "\n",
    "Add node attributes using `add_node()`, `add_nodes_from()`, or `G.nodes`"
   ]
  },
  {
   "cell_type": "code",
   "execution_count": 23,
   "id": "199ae311",
   "metadata": {
    "execution": {
     "iopub.execute_input": "2022-05-12T04:43:47.975932Z",
     "iopub.status.busy": "2022-05-12T04:43:47.975510Z",
     "iopub.status.idle": "2022-05-12T04:43:47.979793Z",
     "shell.execute_reply": "2022-05-12T04:43:47.979300Z"
    }
   },
   "outputs": [
    {
     "data": {
      "text/plain": [
       "NodeDataView({1: {'time': '5pm', 'room': 714}, 3: {'time': '2pm'}})"
      ]
     },
     "execution_count": 23,
     "metadata": {},
     "output_type": "execute_result"
    }
   ],
   "source": [
    "G.add_node(1, time='5pm')\n",
    "G.add_nodes_from([3], time='2pm')\n",
    "G.nodes[1]\n",
    "G.nodes[1]['room'] = 714\n",
    "G.nodes.data()"
   ]
  },
  {
   "cell_type": "markdown",
   "id": "5a69b2bf",
   "metadata": {},
   "source": [
    "Note that adding a node to `G.nodes` does not add it to the graph, use\n",
    "`G.add_node()` to add new nodes. Similarly for edges.\n",
    "\n",
    "# Edge Attributes\n",
    "\n",
    "Add/change edge attributes using `add_edge()`, `add_edges_from()`,\n",
    "or subscript notation."
   ]
  },
  {
   "cell_type": "code",
   "execution_count": 24,
   "id": "907a41af",
   "metadata": {
    "execution": {
     "iopub.execute_input": "2022-05-12T04:43:47.982343Z",
     "iopub.status.busy": "2022-05-12T04:43:47.981932Z",
     "iopub.status.idle": "2022-05-12T04:43:47.985611Z",
     "shell.execute_reply": "2022-05-12T04:43:47.985090Z"
    }
   },
   "outputs": [],
   "source": [
    "G.add_edge(1, 2, weight=4.7 )\n",
    "G.add_edges_from([(3, 4), (4, 5)], color='red')\n",
    "G.add_edges_from([(1, 2, {'color': 'blue'}), (2, 3, {'weight': 8})])\n",
    "G[1][2]['weight'] = 4.7\n",
    "G.edges[3, 4]['weight'] = 4.2"
   ]
  },
  {
   "cell_type": "markdown",
   "id": "7cdce526",
   "metadata": {},
   "source": [
    "The special attribute `weight` should be numeric as it is used by\n",
    "algorithms requiring weighted edges.\n",
    "\n",
    " Directed graphs\n",
    "\n",
    "The `DiGraph` class provides additional methods and properties specific\n",
    "to directed edges, e.g.,\n",
    "`DiGraph.out_edges`, `DiGraph.in_degree`,\n",
    "`DiGraph.predecessors`, `DiGraph.successors` etc.\n",
    "To allow algorithms to work with both classes easily, the directed versions of\n",
    "`neighbors` is equivalent to\n",
    "`successors` while `degree` reports the sum\n",
    "of `in_degree` and `out_degree` even though that may feel inconsistent at times."
   ]
  },
  {
   "cell_type": "code",
   "execution_count": 25,
   "id": "7824677a",
   "metadata": {
    "execution": {
     "iopub.execute_input": "2022-05-12T04:43:47.987954Z",
     "iopub.status.busy": "2022-05-12T04:43:47.987544Z",
     "iopub.status.idle": "2022-05-12T04:43:47.992105Z",
     "shell.execute_reply": "2022-05-12T04:43:47.991604Z"
    }
   },
   "outputs": [
    {
     "data": {
      "text/plain": [
       "[2]"
      ]
     },
     "execution_count": 25,
     "metadata": {},
     "output_type": "execute_result"
    }
   ],
   "source": [
    "DG = nx.DiGraph()\n",
    "DG.add_weighted_edges_from([(1, 2, 0.5), (3, 1, 0.75)])\n",
    "DG.out_degree(1, weight='weight')\n",
    "DG.degree(1, weight='weight')\n",
    "list(DG.successors(1))\n",
    "list(DG.neighbors(1))"
   ]
  },
  {
   "cell_type": "markdown",
   "id": "7fd4e5d5",
   "metadata": {},
   "source": [
    "Some algorithms work only for directed graphs and others are not well\n",
    "defined for directed graphs.  Indeed the tendency to lump directed\n",
    "and undirected graphs together is dangerous.  If you want to treat\n",
    "a directed graph as undirected for some measurement you should probably\n",
    "convert it using `Graph.to_undirected()` or with"
   ]
  },
  {
   "cell_type": "code",
   "execution_count": 26,
   "id": "281fbbc5",
   "metadata": {
    "execution": {
     "iopub.execute_input": "2022-05-12T04:43:47.995017Z",
     "iopub.status.busy": "2022-05-12T04:43:47.994578Z",
     "iopub.status.idle": "2022-05-12T04:43:47.997283Z",
     "shell.execute_reply": "2022-05-12T04:43:47.996811Z"
    }
   },
   "outputs": [],
   "source": [
    "H = nx.Graph(G)  # create an undirected graph H from a directed graph G"
   ]
  },
  {
   "cell_type": "markdown",
   "id": "6f974082",
   "metadata": {},
   "source": [
    "# Multigraphs\n",
    "\n",
    "NetworkX provides classes for graphs which allow multiple edges\n",
    "between any pair of nodes.  The `MultiGraph` and\n",
    "`MultiDiGraph`\n",
    "classes allow you to add the same edge twice, possibly with different\n",
    "edge data.  This can be powerful for some applications, but many\n",
    "algorithms are not well defined on such graphs.\n",
    "Where results are well defined,\n",
    "e.g., `MultiGraph.degree()` we provide the function.  Otherwise you\n",
    "should convert to a standard graph in a way that makes the measurement\n",
    "well defined."
   ]
  },
  {
   "cell_type": "code",
   "execution_count": 27,
   "id": "e4f2e5b9",
   "metadata": {
    "execution": {
     "iopub.execute_input": "2022-05-12T04:43:47.999773Z",
     "iopub.status.busy": "2022-05-12T04:43:47.999348Z",
     "iopub.status.idle": "2022-05-12T04:43:48.006461Z",
     "shell.execute_reply": "2022-05-12T04:43:48.006000Z"
    }
   },
   "outputs": [
    {
     "data": {
      "text/plain": [
       "[1, 2, 3]"
      ]
     },
     "execution_count": 27,
     "metadata": {},
     "output_type": "execute_result"
    }
   ],
   "source": [
    "MG = nx.MultiGraph()\n",
    "MG.add_weighted_edges_from([(1, 2, 0.5), (1, 2, 0.75), (2, 3, 0.5)])\n",
    "dict(MG.degree(weight='weight'))\n",
    "GG = nx.Graph()\n",
    "for n, nbrs in MG.adjacency():\n",
    "   for nbr, edict in nbrs.items():\n",
    "       minvalue = min([d['weight'] for d in edict.values()])\n",
    "       GG.add_edge(n, nbr, weight = minvalue)\n",
    "\n",
    "nx.shortest_path(GG, 1, 3)"
   ]
  },
  {
   "cell_type": "markdown",
   "id": "f78dfadd",
   "metadata": {},
   "source": [
    "# Graph generators and graph operations\n",
    "\n",
    "In addition to constructing graphs node-by-node or edge-by-edge, they\n",
    "can also be generated by\n",
    "\n",
    "## 1. Applying classic graph operations, such as:\n",
    "\n",
    "## 2. Using a call to one of the classic small graphs, e.g.,\n",
    "\n",
    "## 3. Using a (constructive) generator for a classic graph, e.g.,\n",
    "\n",
    "like so:"
   ]
  },
  {
   "cell_type": "code",
   "execution_count": 28,
   "id": "6f111930",
   "metadata": {
    "execution": {
     "iopub.execute_input": "2022-05-12T04:43:48.008882Z",
     "iopub.status.busy": "2022-05-12T04:43:48.008602Z",
     "iopub.status.idle": "2022-05-12T04:43:48.013232Z",
     "shell.execute_reply": "2022-05-12T04:43:48.012775Z"
    }
   },
   "outputs": [],
   "source": [
    "K_5 = nx.complete_graph(5)\n",
    "K_3_5 = nx.complete_bipartite_graph(3, 5)\n",
    "barbell = nx.barbell_graph(10, 10)\n",
    "lollipop = nx.lollipop_graph(10, 20)"
   ]
  },
  {
   "cell_type": "markdown",
   "id": "53f6d2fe",
   "metadata": {},
   "source": [
    "# 4. Using a stochastic graph generator, e.g,\n",
    "\n",
    "like so:"
   ]
  },
  {
   "cell_type": "code",
   "execution_count": 29,
   "id": "7fe1754e",
   "metadata": {
    "execution": {
     "iopub.execute_input": "2022-05-12T04:43:48.015604Z",
     "iopub.status.busy": "2022-05-12T04:43:48.015324Z",
     "iopub.status.idle": "2022-05-12T04:43:48.025332Z",
     "shell.execute_reply": "2022-05-12T04:43:48.024869Z"
    }
   },
   "outputs": [],
   "source": [
    "er = nx.erdos_renyi_graph(100, 0.15)\n",
    "ws = nx.watts_strogatz_graph(30, 3, 0.1)\n",
    "ba = nx.barabasi_albert_graph(100, 5)\n",
    "red = nx.random_lobster(100, 0.9, 0.9)"
   ]
  },
  {
   "cell_type": "markdown",
   "id": "ec56764b",
   "metadata": {},
   "source": [
    "# 5. Reading a graph stored in a file using common graph formats\n",
    "\n",
    "NetworkX supports many popular formats, such as edge lists, adjacency lists,\n",
    "GML, GraphML, pickle, LEDA and others."
   ]
  },
  {
   "cell_type": "code",
   "execution_count": 30,
   "id": "6c87eca5",
   "metadata": {
    "execution": {
     "iopub.execute_input": "2022-05-12T04:43:48.027861Z",
     "iopub.status.busy": "2022-05-12T04:43:48.027463Z",
     "iopub.status.idle": "2022-05-12T04:43:48.128452Z",
     "shell.execute_reply": "2022-05-12T04:43:48.127836Z"
    }
   },
   "outputs": [],
   "source": [
    "nx.write_gml(red, \"path.to.file\")\n",
    "mygraph = nx.read_gml(\"path.to.file\")"
   ]
  },
  {
   "cell_type": "markdown",
   "id": "f77ce31b",
   "metadata": {},
   "source": [
    "For details on graph formats see Reading and writing graphs\n",
    "and for graph generator functions see Graph generators\n",
    "\n",
    " Analyzing graphs\n",
    "\n",
    "The structure of `G` can be analyzed using various graph-theoretic\n",
    "functions such as:"
   ]
  },
  {
   "cell_type": "code",
   "execution_count": 31,
   "id": "a461fd3b",
   "metadata": {
    "execution": {
     "iopub.execute_input": "2022-05-12T04:43:48.131788Z",
     "iopub.status.busy": "2022-05-12T04:43:48.131310Z",
     "iopub.status.idle": "2022-05-12T04:43:48.139348Z",
     "shell.execute_reply": "2022-05-12T04:43:48.138860Z"
    }
   },
   "outputs": [
    {
     "data": {
      "text/plain": [
       "{1: 0, 2: 0, 3: 0, 'spam': 0}"
      ]
     },
     "execution_count": 31,
     "metadata": {},
     "output_type": "execute_result"
    }
   ],
   "source": [
    "G = nx.Graph()\n",
    "G.add_edges_from([(1, 2), (1, 3)])\n",
    "G.add_node(\"spam\")       # adds node \"spam\"\n",
    "list(nx.connected_components(G))\n",
    "sorted(d for n, d in G.degree())\n",
    "nx.clustering(G)"
   ]
  },
  {
   "cell_type": "markdown",
   "id": "ae53b2fe",
   "metadata": {},
   "source": [
    "Some functions with large output iterate over (node, value) 2-tuples.\n",
    "These are easily stored in a [dict](https://docs.python.org/3/library/stdtypes.html#dict) structure if you desire."
   ]
  },
  {
   "cell_type": "code",
   "execution_count": 32,
   "id": "10252d0e",
   "metadata": {
    "execution": {
     "iopub.execute_input": "2022-05-12T04:43:48.141875Z",
     "iopub.status.busy": "2022-05-12T04:43:48.141567Z",
     "iopub.status.idle": "2022-05-12T04:43:48.146077Z",
     "shell.execute_reply": "2022-05-12T04:43:48.145574Z"
    }
   },
   "outputs": [
    {
     "data": {
      "text/plain": [
       "{3: [3], 1: [3, 1], 2: [3, 1, 2]}"
      ]
     },
     "execution_count": 32,
     "metadata": {},
     "output_type": "execute_result"
    }
   ],
   "source": [
    "sp = dict(nx.all_pairs_shortest_path(G))\n",
    "sp[3]"
   ]
  },
  {
   "cell_type": "markdown",
   "id": "5589771e",
   "metadata": {},
   "source": [
    "See Algorithms for details on graph algorithms\n",
    "supported.\n",
    "\n",
    "# Drawing graphs\n",
    "\n",
    "NetworkX is not primarily a graph drawing package but basic drawing with\n",
    "Matplotlib as well as an interface to use the open source Graphviz software\n",
    "package are included.  These are part of the networkx.drawing\n",
    "module and will be imported if possible.\n",
    "\n",
    "First import Matplotlib’s plot interface (pylab works too)"
   ]
  },
  {
   "cell_type": "code",
   "execution_count": 33,
   "id": "1a1e7d0d",
   "metadata": {
    "execution": {
     "iopub.execute_input": "2022-05-12T04:43:48.148801Z",
     "iopub.status.busy": "2022-05-12T04:43:48.148507Z",
     "iopub.status.idle": "2022-05-12T04:43:48.716690Z",
     "shell.execute_reply": "2022-05-12T04:43:48.715547Z"
    }
   },
   "outputs": [],
   "source": [
    "import matplotlib.pyplot as plt"
   ]
  },
  {
   "cell_type": "markdown",
   "id": "369e389f",
   "metadata": {},
   "source": [
    "To test if the import of `nx_pylab` was successful draw `G`\n",
    "using one of"
   ]
  },
  {
   "cell_type": "code",
   "execution_count": 34,
   "id": "9df45806",
   "metadata": {
    "execution": {
     "iopub.execute_input": "2022-05-12T04:43:48.720110Z",
     "iopub.status.busy": "2022-05-12T04:43:48.719557Z",
     "iopub.status.idle": "2022-05-12T04:43:48.848548Z",
     "shell.execute_reply": "2022-05-12T04:43:48.847953Z"
    }
   },
   "outputs": [
    {
     "data": {
      "image/png": "[encoded data removed]",
      "text/plain": [
       "<Figure size 432x288 with 2 Axes>"
      ]
     },
     "metadata": {},
     "output_type": "display_data"
    }
   ],
   "source": [
    "G = nx.petersen_graph()\n",
    "subax1 = plt.subplot(121)\n",
    "nx.draw(G, with_labels=True, font_weight='bold')\n",
    "subax2 = plt.subplot(122)\n",
    "nx.draw_shell(G, nlist=[range(5, 10), range(5)], with_labels=True, font_weight='bold')"
   ]
  },
  {
   "cell_type": "markdown",
   "id": "51ddd030",
   "metadata": {},
   "source": [
    "when drawing to an interactive display.  Note that you may need to issue a\n",
    "Matplotlib"
   ]
  },
  {
   "cell_type": "code",
   "execution_count": 35,
   "id": "1417c665",
   "metadata": {
    "execution": {
     "iopub.execute_input": "2022-05-12T04:43:48.851815Z",
     "iopub.status.busy": "2022-05-12T04:43:48.851569Z",
     "iopub.status.idle": "2022-05-12T04:43:48.855362Z",
     "shell.execute_reply": "2022-05-12T04:43:48.854874Z"
    }
   },
   "outputs": [],
   "source": [
    "plt.show()"
   ]
  },
  {
   "cell_type": "markdown",
   "id": "6e5842b0",
   "metadata": {},
   "source": [
    "command if you are not using matplotlib in interactive mode."
   ]
  },
  {
   "cell_type": "code",
   "execution_count": 36,
   "id": "5a17576a",
   "metadata": {
    "execution": {
     "iopub.execute_input": "2022-05-12T04:43:48.858214Z",
     "iopub.status.busy": "2022-05-12T04:43:48.858005Z",
     "iopub.status.idle": "2022-05-12T04:43:49.007863Z",
     "shell.execute_reply": "2022-05-12T04:43:49.007404Z"
    }
   },
   "outputs": [
    {
     "data": {
      "image/png": "[encoded data removed]",
      "text/plain": [
       "<Figure size 432x288 with 4 Axes>"
      ]
     },
     "metadata": {},
     "output_type": "display_data"
    }
   ],
   "source": [
    "options = {\n",
    "    'node_color': 'black',\n",
    "    'node_size': 100,\n",
    "    'width': 3,\n",
    "}\n",
    "subax1 = plt.subplot(221)\n",
    "nx.draw_random(G, **options)\n",
    "subax2 = plt.subplot(222)\n",
    "nx.draw_circular(G, **options)\n",
    "subax3 = plt.subplot(223)\n",
    "nx.draw_spectral(G, **options)\n",
    "subax4 = plt.subplot(224)\n",
    "nx.draw_shell(G, nlist=[range(5,10), range(5)], **options)"
   ]
  },
  {
   "cell_type": "markdown",
   "id": "dd13146f",
   "metadata": {},
   "source": [
    "You can find additional options via `draw_networkx()` and\n",
    "layouts via the `layout module`.\n",
    "You can use multiple shells with `draw_shell()`."
   ]
  },
  {
   "cell_type": "code",
   "execution_count": 37,
   "id": "3dba1ebb",
   "metadata": {
    "execution": {
     "iopub.execute_input": "2022-05-12T04:43:49.011634Z",
     "iopub.status.busy": "2022-05-12T04:43:49.010732Z",
     "iopub.status.idle": "2022-05-12T04:43:49.066124Z",
     "shell.execute_reply": "2022-05-12T04:43:49.065710Z"
    }
   },
   "outputs": [
    {
     "data": {
      "image/png": "[encoded data removed]",
      "text/plain": [
       "<Figure size 432x288 with 1 Axes>"
      ]
     },
     "metadata": {},
     "output_type": "display_data"
    }
   ],
   "source": [
    "G = nx.dodecahedral_graph()\n",
    "shells = [[2, 3, 4, 5, 6], [8, 1, 0, 19, 18, 17, 16, 15, 14, 7], [9, 10, 11, 12, 13]]\n",
    "nx.draw_shell(G, nlist=shells, **options)"
   ]
  },
  {
   "cell_type": "markdown",
   "id": "13cc1db5",
   "metadata": {},
   "source": [
    "To save drawings to a file, use, for example"
   ]
  },
  {
   "cell_type": "code",
   "execution_count": 38,
   "id": "5a9ff7ee",
   "metadata": {
    "execution": {
     "iopub.execute_input": "2022-05-12T04:43:49.069635Z",
     "iopub.status.busy": "2022-05-12T04:43:49.068765Z",
     "iopub.status.idle": "2022-05-12T04:43:49.195701Z",
     "shell.execute_reply": "2022-05-12T04:43:49.195268Z"
    }
   },
   "outputs": [
    {
     "data": {
      "image/png": "[encoded data removed]",
      "text/plain": [
       "<Figure size 432x288 with 1 Axes>"
      ]
     },
     "metadata": {},
     "output_type": "display_data"
    }
   ],
   "source": [
    "nx.draw(G)\n",
    "plt.savefig(\"path.png\")"
   ]
  },
  {
   "cell_type": "markdown",
   "id": "e675ce14",
   "metadata": {},
   "source": [
    "This function writes to the file `path.png` in the local directory. If Graphviz and\n",
    "PyGraphviz or pydot, are available on your system, you can also use\n",
    "`networkx.drawing.nx_agraph.graphviz_layout` or\n",
    "`networkx.drawing.nx_pydot.graphviz_layout` to get the node positions, or write\n",
    "the graph in dot format for further processing."
   ]
  },
  {
   "cell_type": "code",
   "execution_count": 39,
   "id": "6a5a1518",
   "metadata": {
    "execution": {
     "iopub.execute_input": "2022-05-12T04:43:49.199269Z",
     "iopub.status.busy": "2022-05-12T04:43:49.198391Z",
     "iopub.status.idle": "2022-05-12T04:43:49.290842Z",
     "shell.execute_reply": "2022-05-12T04:43:49.290395Z"
    }
   },
   "outputs": [
    {
     "data": {
      "image/png": "[encoded data removed]",
      "text/plain": [
       "<Figure size 432x288 with 1 Axes>"
      ]
     },
     "metadata": {},
     "output_type": "display_data"
    }
   ],
   "source": [
    "from networkx.drawing.nx_pydot import write_dot\n",
    "pos = nx.nx_agraph.graphviz_layout(G)\n",
    "nx.draw(G, pos=pos)\n",
    "write_dot(G, 'file.dot')"
   ]
  },
  {
   "cell_type": "markdown",
   "id": "84cde9a6",
   "metadata": {},
   "source": [
    "See Drawing for additional details."
   ]
  }
 ],
 "metadata": {
  "language_info": {
   "codemirror_mode": {
    "name": "ipython",
    "version": 3
   },
   "file_extension": ".py",
   "mimetype": "text/x-python",
   "name": "python",
   "nbconvert_exporter": "python",
   "pygments_lexer": "ipython3",
   "version": "3.8.12"
  }
 },
 "nbformat": 4,
 "nbformat_minor": 5
}